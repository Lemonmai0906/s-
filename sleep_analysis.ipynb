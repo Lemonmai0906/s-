{
 "cells": [
  {
   "cell_type": "markdown",
   "metadata": {},
   "source": [
    "# 睡眠健康与生活方式分析"
   ]
  },
  {
   "cell_type": "markdown",
   "metadata": {},
   "source": [
    "## 1. 导入必要的库"
   ]
  },
  {
   "cell_type": "code",
   "execution_count": null,
   "metadata": {},
   "outputs": [],
   "source": [
    "import numpy as np\n",
    "import pandas as pd\n",
    "import requests\n",
    "import os\n",
    "from sklearn.ensemble import RandomForestClassifier\n",
    "from sklearn.model_selection import train_test_split"
   ]
  },
  {
   "cell_type": "markdown",
   "metadata": {},
   "source": [
    "## 2. 数据预处理函数"
   ]
  },
  {
   "cell_type": "code",
   "execution_count": null,
   "metadata": {},
   "outputs": [],
   "source": [
    "# 睡眠质量分类函数\n",
    "def classify_sleep_quality(row):\n",
    "    if row['Sleep Duration'] >= 7 and row['Quality of Sleep'] >= 8:\n",
    "        return 'Excellent'   \n",
    "    elif row['Quality of Sleep'] >= 6:\n",
    "        return 'Good'\n",
    "    else:\n",
    "        return 'Need Improvement'"
   ]
  },
  {
   "cell_type": "code",
   "execution_count": null,
   "metadata": {},
   "outputs": [],
   "source": [
    "# 增强数据预处理流程\n",
    "def enhanced_preprocessing(df):\n",
    "    # 验证数据完整性\n",
    "    required_columns = ['Heart Rate', 'Quality of Sleep', 'Occupation']\n",
    "    for col in required_columns:\n",
    "        if col not in df.columns:\n",
    "            raise ValueError(f\"数据集缺少必要字段: {col}\")\n",
    "    \n",
    "    # 处理缺失值\n",
    "    df['Heart Rate'] = df['Heart Rate'].fillna(df['Heart Rate'].median())\n",
    "    df['Occupation'] = df['Occupation'].fillna('Unknown')\n",
    "    \n",
    "    # BMI类别编码\n",
    "    if 'BMI Category'] in df.columns:\n",
    "        df['BMI Category'] = df['BMI Category'].str.strip().str.title()\n",
    "        bmi_mapping = {'Normal': 0, 'Normal Weight': 1, 'Overweight': 2, 'Obese': 3}\n",
    "        df['BMI Category'] = df['BMI Category'].map(bmi_mapping)\n",
    "    \n",
    "    # 睡眠质量分类\n",
    "    df['SleepClass'] = df.apply(classify_sleep_quality, axis=1)\n",
    "    \n",
    "    return df"
   ]
  },
  {
   "cell_type": "markdown",
   "metadata": {},
   "source": [
    "## 3. 天气API集成"
   ]
  },
  {
   "cell_type": "code",
   "execution_count": null,
   "metadata": {},
   "outputs": [],
   "source": [
    "def get_weather(city, api_key):\n",
    "    \"\"\"获取指定城市的天气数据\"\"\"\n",
    "    try:\n",
    "        api_url = 'http://apis.juhe.cn/simpleWeather/query'\n",
    "        params = {'city': city, 'key': api_key}\n",
    "        response = requests.get(api_url, params=params, timeout=10)\n",
    "        response.raise_for_status()\n",
    "        data = response.json()\n",
    "        \n",
    "        if data['error_code'] != 0:\n",
    "            raise ValueError(data['reason'])\n",
    "            \n",
    "        realtime = data['result']['realtime']\n",
    "        return {\n",
    "            'temperature': float(realtime['temperature']),\n",
    "            'humidity': float(realtime['humidity']),\n",
    "            'weather': realtime['info'],\n",
    "            'aqi': float(realtime['aqi'])\n",
    "        }\n",
    "    except Exception as e:\n",
    "        raise ValueError(f\"天气API调用失败: {str(e)}\")"
   ]
  },
  {
   "cell_type": "markdown",
   "metadata": {},
   "source": [
    "## 4. 主程序流程"
   ]
  },
  {
   "cell_type": "code",
   "execution_count": null,
   "metadata": {},
   "outputs": [],
   "source": [
    "# 1. 数据加载\n",
    "data_paths = [\n",
    "    os.path.expanduser('~/Sleep_health_and_lifestyle_dataset.csv'),  # 用户主目录\n",
    "    'Sleep_health_and_lifestyle_dataset.csv',  # 当前目录\n",
    "    '../Sleep_health_and_lifestyle_dataset.csv'  # 上级目录\n",
    "]\n",
    "\n",
    "sleep_data = None\n",
    "for path in data_paths:\n",
    "    try:\n",
    "        sleep_data = pd.read_csv(path, encoding='utf-8')\n",
    "        print(f\"成功加载数据文件: {os.path.abspath(path)}\")\n",
    "        break\n",
    "    except Exception as e:\n",
    "        print(f\"尝试加载 {path} 失败，请检查文件是否存在\")\n",
    "        continue\n",
    "        \n",
    "if sleep_data is None:\n",
    "    raise FileNotFoundError(\n",
    "        \"未找到数据文件，请确保文件位于以下位置之一:\\n\"\n",
    "        f\"1. 用户主目录: {os.path.expanduser('~/')}\\n\"\n",
    "        \"2. 程序所在目录\\n\"\n",
    "        \"3. 程序目录的上级目录\\n\"\n",
    "        \"文件应命名为'Sleep_health_and_lifestyle_dataset.csv'\"\n",
    "    )"
   ]
  },
  {
   "cell_type": "code",
   "execution_count": null,
   "metadata": {},
   "outputs": [],
   "source": [
    "# 2. 数据预处理\n",
    "processed_data = enhanced_preprocessing(sleep_data)\n",
    "print(\"数据预处理完成，可用列:\", list(processed_data.columns))"
   ]
  },
  {
   "cell_type": "code",
   "execution_count": null,
   "metadata": {},
   "outputs": [],
   "source": [
    "# 3. 获取并整合天气数据\n",
    "try:\n",
    "    weather_data = get_weather('广州', '您的API密钥')\n",
    "    processed_data = processed_data.assign(\n",
    "        temperature=weather_data['temperature'],\n",
    "        humidity=weather_data['humidity'],\n",
    "        weather_condition=weather_data['weather'],\n",
    "        air_quality=weather_data['aqi']\n",
    "    )\n",
    "    print(\"成功添加天气数据特征\")\n",
    "    print(\"当前数据列:\", list(processed_data.columns))\n",
    "except Exception as e:\n",
    "    print(f\"天气数据获取失败: {str(e)}\")\n",
    "    # 添加默认天气数据\n",
    "    processed_data = processed_data.assign(\n",
    "        temperature=25.0,\n",
    "        humidity=60.0,\n",
    "        weather_condition='晴',\n",
    "        air_quality=50\n",
    "    )\n",
    "    print(\"使用默认天气数据继续执行\")"
   ]
  },
  {
   "cell_type": "code",
   "execution_count": null,
   "metadata": {},
   "outputs": [],
   "source": [
    "# 4. 模型训练\n",
    "# 确保所有特征列存在\n",
    "required_features = ['Age', 'Daily Steps', 'BMI Category', 'temperature', 'humidity']\n",
    "missing_features = [col for col in required_features if col not in processed_data.columns]\n",
    "if missing_features:\n",
    "    raise ValueError(f\"缺少必要特征列: {missing_features}\")\n",
    "\n",
    "features = processed_data[required_features]\n",
    "target = processed_data['SleepClass']\n",
    "\n",
    "X_train, X_test, y_train, y_test = train_test_split(features, target, test_size=0.2)\n",
    "model = RandomForestClassifier()\n",
    "model.fit(X_train, y_train)\n",
    "\n",
    "print(f\"模型训练完成，测试集准确率: {model.score(X_test, y_test):.2f}\")"
   ]
  },
  {
   "cell_type": "code",
   "execution_count": null,
   "metadata": {},
   "outputs": [],
   "source": [
    "# 5. 示例预测\n",
    "user_example = {\n",
    "    'Age': 30,\n",
    "    'Daily Steps': 4500,\n",
    "    'BMI Category': 0,  # Normal\n",
    "    'temperature': 26,\n",
    "    'humidity': 70\n",
    "}\n",
    "\n",
    "example_df = pd.DataFrame([user_example])\n",
    "prediction = model.predict(example_df)\n",
    "print(f\"睡眠建议: {prediction[0]}\")"
   ]
  }
 ],
 "metadata": {
  "kernelspec": {
   "display_name": "Python 3",
   "language": "python",
   "name": "python3"
  },
  "language_info": {
   "codemirror_mode": {
    "name": "ipython",
    "version": 3
   },
   "file_extension": ".py",
   "mimetype": "text/x-python",
   "name": "python",
   "nbconvert_exporter": "python",
   "pygments_lexer": "ipython3",
   "version": "3.8.5"
  }
 },
 "nbformat": 4,
 "nbformat_minor": 4
}
